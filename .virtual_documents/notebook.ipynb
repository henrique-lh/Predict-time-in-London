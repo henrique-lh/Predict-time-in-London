


# Run this cell to install mlflow
!pip install mlflow





# Run this cell to import the modules you require
import pandas as pd
import numpy as np
import mlflow
import mlflow.sklearn
import matplotlib.pyplot as plt
import seaborn as sns
from sklearn.model_selection import train_test_split
from sklearn.metrics import mean_squared_error
from sklearn.impute import SimpleImputer
from sklearn.preprocessing import StandardScaler
from sklearn.linear_model import LinearRegression
from sklearn.tree import DecisionTreeRegressor
from sklearn.ensemble import RandomForestRegressor

# Read in the data
weather = pd.read_csv("london_weather.csv")

# Start coding here
# Use as many cells as you like
weather.info()





weather["date"] = pd.to_datetime(weather["date"], format="%Y%m%d")
weather.info()





weather["year"] = weather.date.dt.year
weather["month"] = weather.date.dt.month
weather.head()





sns.lineplot(y=weather["mean_temp"], x=weather["year"], data=weather)





sns.barplot(y=weather["mean_temp"], x=weather["month"], data=weather)





sns.heatmap(weather.drop(["date", "year", "month"], axis=1).corr())





selected_features = weather[["max_temp", "min_temp", "mean_temp"]]
X = selected_features.drop(["mean_temp"], axis=1)
y = selected_features["mean_temp"].dropna()
X = X.loc[weather.dropna(subset=["mean_temp"]).index]


X.head()


y.head()


X.info()


y.info()





# Split in train and test
X_train, X_test, y_train, y_test = train_test_split(X, y, test_size=0.2, random_state=42)

# Impute values
imputer = SimpleImputer(strategy="mean")
X_train_imputed = imputer.fit_transform(X_train)
X_test_imputed = imputer.fit_transform(X_test)

# Normalizing data
scaler = StandardScaler()
X_train_norm = scaler.fit_transform(X_train_imputed)
X_test_norm = scaler.transform(X_test_imputed)





mlflow.create_experiment("Forest Model")
mlflow.set_experiment("Forest Model")
mlflow.set_experiment_tag("version", "1.0")

for idx, depth in enumerate([1, 5, 10, 20]):
    with mlflow.start_run(run_name=f"run_{idx}"):
        dt_regressor = DecisionTreeRegressor(max_depth=depth)
        dt_regressor.fit(X_train_norm, y_train)
        dt_pred = dt_regressor.predict(X_test_norm)
        dt_rmse = mean_squared_error(y_test, dt_pred, squared=False)
        
        mlflow.log_param("dt_model", "DecisionTree")
        mlflow.log_param("max_depth", depth)
        mlflow.log_metric("dt_rmse", dt_rmse)
        
        rf_regressor = RandomForestRegressor(max_depth=depth)
        rf_regressor.fit(X_train_norm, y_train)
        rf_pred = rf_regressor.predict(X_test_norm)
        rf_rmse = mean_squared_error(y_test, rf_pred, squared=False)
        
        mlflow.log_param("rf_model", "RandomForest")
        mlflow.log_param("max_depth", depth)
        mlflow.log_metric("rf_rmse", rf_rmse)





experiment_results = mlflow.search_runs(search_all_experiments=True)
experiment_results
